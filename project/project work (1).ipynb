{
 "cells": [
  {
   "cell_type": "code",
   "execution_count": null,
   "metadata": {},
   "outputs": [],
   "source": [
    "from random import randint"
   ]
  },
  {
   "cell_type": "code",
   "execution_count": null,
   "metadata": {},
   "outputs": [],
   "source": [
    "class SnakesAndLadders:\n",
    "    SNAKES = {\n",
    "        27: 8,\n",
    "        34: 7,\n",
    "        29: 3,\n",
    "        69: 31,\n",
    "        72: 36,\n",
    "        77: 46,\n",
    "        80: 41,\n",
    "        96: 48,\n",
    "        98: 79,\n",
    "    }\n",
    "\n",
    "    LADDERS = {\n",
    "        4: 16,\n",
    "        6: 25,\n",
    "        12: 49,\n",
    "        20: 40,\n",
    "        38: 88,\n",
    "        58: 62,\n",
    "        71: 93,\n",
    "        78: 84,\n",
    "        86: 95,\n",
    "    }\n",
    "    \n",
    "    LAST_TILE = 100\n",
    "    \n",
    "    def __init__(self, n_players, verbose = False):\n",
    "        self.n_players = n_players\n",
    "        self.verbose = verbose\n",
    "        self.players = [0] * n_players\n",
    "        self.turn = 0\n",
    "        self.winner = None # can use to determine if game is over
    "    }\n",
    "    \n",
    "    def die_roll(self):
    "   return randint(1,6)
    "   def move_player(self, player_i):
    "    prev_pos = self.players[player_i]
    "   new_pos = prev_pos + self.die_roll()
    "   }\n",
    "   \n",
    "   if new_pos >= self.LAST_TILE: # winner! game over
    "        self.winner = player_i
    "       new_pos = self.LAST_TILE
    "    elif new_pos in self.SNAKES:
    "        new_pos = self.SNAKES[new_pos]
    "    elif new_pos in self.LADDERS:
    "        new_pos = self.LADDERS[new_pos]
     "   }\n",
    "    \n",
    "    self.players[player_i] = new_pos
    "    }\n",
    "    \n",
    "    def move_players(self):
    "   for player_i in range(self.n_players):
    "       self.move_player(player_i)
    "        if self.winner is not None: # done with game
    "            break
    
   ]
  }
 ],
 "metadata": {
  "language_info": {
   "name": "python"
  },
  "orig_nbformat": 4
 },
 "nbformat": 4,
 "nbformat_minor": 2
}
